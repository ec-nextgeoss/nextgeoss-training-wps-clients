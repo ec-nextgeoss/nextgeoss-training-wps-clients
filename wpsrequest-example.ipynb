{
 "cells": [
  {
   "cell_type": "markdown",
   "metadata": {},
   "source": [
    "## Execute a WPS service"
   ]
  },
  {
   "cell_type": "markdown",
   "metadata": {},
   "source": [
    "his  tutorial uses a Jupyter Notebook to create a Web Processing Service (WPS) request invoking a service deployed in the context of NextGEOSS, monitors the WPS request execution and finally retrieves the execution results"
   ]
  },
  {
   "cell_type": "markdown",
   "metadata": {},
   "source": [
    "* First do the imports of the Python libraries required"
   ]
  },
  {
   "cell_type": "code",
   "execution_count": 13,
   "metadata": {
    "collapsed": true
   },
   "outputs": [],
   "source": [
    "import owslib\n",
    "from owslib.wps import monitorExecution\n",
    "import uuid\n",
    "from owslib.wps import WebProcessingService\n",
    "import sys\n",
    "import os\n",
    "sys.path.append('/opt/anaconda/bin/')\n",
    "import lxml.etree as etree\n",
    "import requests\n",
    "import cioppy\n",
    "ciop = cioppy.Cioppy()\n",
    "import shapely\n",
    "import dateutil.parser\n",
    "from shapely.wkt import loads \n",
    "import pandas as pd\n",
    "import geopandas as gp\n",
    "from datetime import datetime, timedelta\n",
    "from io import BytesIO\n",
    "from zipfile import ZipFile\n",
    "import matplotlib.pyplot as plt\n",
    "import gdal\n",
    "import numpy as np\n",
    "import xml.etree.ElementTree as ET\n",
    "\n",
    "%matplotlib inline"
   ]
  },
  {
   "cell_type": "markdown",
   "metadata": {},
   "source": [
    "* Connect to the WPS server"
   ]
  },
  {
   "cell_type": "code",
   "execution_count": 2,
   "metadata": {
    "collapsed": true
   },
   "outputs": [],
   "source": [
    "wps_url = 'http://gridded-data.armines.nextgeoss.terradue.com/wps/WebProcessingService'\n",
    "wps = WebProcessingService(wps_url, verbose=False, skip_caps=True)"
   ]
  },
  {
   "cell_type": "markdown",
   "metadata": {},
   "source": [
    "* Do a GetCapabilities WPS request and list the process:"
   ]
  },
  {
   "cell_type": "code",
   "execution_count": 3,
   "metadata": {
    "collapsed": true
   },
   "outputs": [],
   "source": [
    "wps.getcapabilities()"
   ]
  },
  {
   "cell_type": "markdown",
   "metadata": {},
   "source": [
    "* List available services"
   ]
  },
  {
   "cell_type": "code",
   "execution_count": 4,
   "metadata": {
    "collapsed": false
   },
   "outputs": [
    {
     "name": "stdout",
     "output_type": "stream",
     "text": [
      "(0, 'com.terradue.wps_oozie.process.OozieAbstractAlgorithm')\n"
     ]
    }
   ],
   "source": [
    "for index, elem in enumerate(wps.processes):\n",
    "    print(index, elem.identifier)"
   ]
  },
  {
   "cell_type": "markdown",
   "metadata": {},
   "source": [
    "* Select the **com.terradue.wps_oozie.process.OozieAbstractAlgorithm** process and print the title and abstract after having submited a WPS DescribeProcess request"
   ]
  },
  {
   "cell_type": "code",
   "execution_count": 5,
   "metadata": {
    "collapsed": false
   },
   "outputs": [],
   "source": [
    "process_id = wps.processes[0].identifier"
   ]
  },
  {
   "cell_type": "code",
   "execution_count": 6,
   "metadata": {
    "collapsed": true
   },
   "outputs": [],
   "source": [
    "process = wps.describeprocess(process_id)"
   ]
  },
  {
   "cell_type": "code",
   "execution_count": 7,
   "metadata": {
    "collapsed": false
   },
   "outputs": [
    {
     "data": {
      "text/plain": [
       "'McCloud Map test WPS'"
      ]
     },
     "execution_count": 7,
     "metadata": {},
     "output_type": "execute_result"
    }
   ],
   "source": [
    "process.title"
   ]
  },
  {
   "cell_type": "code",
   "execution_count": 8,
   "metadata": {
    "collapsed": false
   },
   "outputs": [
    {
     "data": {
      "text/plain": [
       "'TODO'"
      ]
     },
     "execution_count": 8,
     "metadata": {},
     "output_type": "execute_result"
    }
   ],
   "source": [
    "process.abstract"
   ]
  },
  {
   "cell_type": "markdown",
   "metadata": {},
   "source": [
    "* List the WPS process inputs:"
   ]
  },
  {
   "cell_type": "code",
   "execution_count": 9,
   "metadata": {
    "collapsed": false
   },
   "outputs": [
    {
     "name": "stdout",
     "output_type": "stream",
     "text": [
      "bbox\n",
      "width\n",
      "height\n",
      "datex\n",
      "dt\n",
      "count\n",
      "min_tile_width\n",
      "min_tile_height\n"
     ]
    }
   ],
   "source": [
    "for input in process.dataInputs:\n",
    "    print(input.identifier)"
   ]
  },
  {
   "cell_type": "markdown",
   "metadata": {},
   "source": [
    "* Create a Python dictionary with the inputs:"
   ]
  },
  {
   "cell_type": "code",
   "execution_count": 10,
   "metadata": {
    "collapsed": true
   },
   "outputs": [],
   "source": [
    "bbox = '5.0,46.0,6.0,45.0'\n",
    "width = '1009'\n",
    "height = '1013'\n",
    "datex = '2453385.900000'\n",
    "dt = '0.00069444'\n",
    "count = '3'\n",
    "min_tile_width = '-1'\n",
    "min_tile_height = '-1'"
   ]
  },
  {
   "cell_type": "code",
   "execution_count": 11,
   "metadata": {
    "collapsed": false
   },
   "outputs": [],
   "source": [
    "inputs = [('bbox', bbox),\n",
    "        ('width', width),\n",
    "        ('height', height),\n",
    "        ('datex', datex),\n",
    "        ('dt', dt),\n",
    "        ('count', count),\n",
    "        ('min_tile_width', min_tile_width),\n",
    "        ('min_tile_height', min_tile_height)]"
   ]
  },
  {
   "cell_type": "markdown",
   "metadata": {},
   "source": [
    "* Submit the Execute WPS request:"
   ]
  },
  {
   "cell_type": "code",
   "execution_count": 16,
   "metadata": {
    "collapsed": true
   },
   "outputs": [],
   "source": [
    "execution = owslib.wps.WPSExecution(url=wps.url)\n",
    "\n",
    "execution_request = execution.buildRequest(process_id, \n",
    "                                           inputs, \n",
    "                                           output = [('result_osd', False)])\n",
    "\n",
    "execution_response = execution.submitRequest(etree.tostring(execution_request))\n",
    "\n",
    "execution.parseResponse(execution_response)"
   ]
  },
  {
   "cell_type": "markdown",
   "metadata": {},
   "source": [
    "* Monitor the request:"
   ]
  },
  {
   "cell_type": "code",
   "execution_count": 17,
   "metadata": {
    "collapsed": false
   },
   "outputs": [
    {
     "data": {
      "text/plain": [
       "'http://gridded-data.armines.nextgeoss.terradue.com/wps/RetrieveResultServlet?id=557bed2b-0a32-49b4-aa8d-17bcd21d9a5c'"
      ]
     },
     "execution_count": 17,
     "metadata": {},
     "output_type": "execute_result"
    }
   ],
   "source": [
    "execution.statusLocation"
   ]
  },
  {
   "cell_type": "code",
   "execution_count": 18,
   "metadata": {
    "collapsed": false
   },
   "outputs": [],
   "source": [
    "monitorExecution(execution)"
   ]
  },
  {
   "cell_type": "markdown",
   "metadata": {},
   "source": [
    "* Check the outcome of the processing request"
   ]
  },
  {
   "cell_type": "code",
   "execution_count": 19,
   "metadata": {
    "collapsed": false
   },
   "outputs": [
    {
     "data": {
      "text/plain": [
       "True"
      ]
     },
     "execution_count": 19,
     "metadata": {},
     "output_type": "execute_result"
    }
   ],
   "source": [
    "execution.isSucceded()"
   ]
  },
  {
   "cell_type": "markdown",
   "metadata": {},
   "source": [
    "* Search for the results produced"
   ]
  },
  {
   "cell_type": "code",
   "execution_count": 20,
   "metadata": {
    "collapsed": false
   },
   "outputs": [
    {
     "name": "stdout",
     "output_type": "stream",
     "text": [
      "result_osd\n"
     ]
    }
   ],
   "source": [
    "for output in execution.processOutputs:\n",
    "    print(output.identifier)"
   ]
  },
  {
   "cell_type": "markdown",
   "metadata": {},
   "source": [
    "* Get the reference of output with identifier=result_osd"
   ]
  },
  {
   "cell_type": "code",
   "execution_count": 21,
   "metadata": {},
   "outputs": [],
   "source": [
    "results_osd = execution.processOutputs[0].data[0]"
   ]
  },
  {
   "cell_type": "code",
   "execution_count": 22,
   "metadata": {
    "collapsed": true
   },
   "outputs": [
    {
     "name": "stdout",
     "output_type": "stream",
     "text": [
      "<ns:Reference xmlns:ns=\"http://www.opengis.net/wps/1.0.0\" xmlns:xsi=\"http://www.w3.org/2001/XMLSchema-instance\" href=\"http://gridded-data.armines.nextgeoss.terradue.com/sbws/wps/mccloud_map_wps/0000000-180901000007300-oozie-oozi-W/results/description\" method=\"GET\" mimeType=\"application/opensearchdescription+xml\"/>\n"
     ]
    }
   ],
   "source": [
    "print(results_osd)"
   ]
  },
  {
   "cell_type": "markdown",
   "metadata": {},
   "source": [
    "* Get the href from the previsous Reference value"
   ]
  },
  {
   "cell_type": "code",
   "execution_count": 23,
   "metadata": {},
   "outputs": [],
   "source": [
    "root = ET.fromstring(results_osd)\n",
    "referenceUrl = root.attrib['href']"
   ]
  },
  {
   "cell_type": "code",
   "execution_count": 24,
   "metadata": {},
   "outputs": [
    {
     "data": {
      "text/plain": [
       "'http://gridded-data.armines.nextgeoss.terradue.com/sbws/wps/mccloud_map_wps/0000000-180901000007300-oozie-oozi-W/results/description'"
      ]
     },
     "execution_count": 24,
     "metadata": {},
     "output_type": "execute_result"
    }
   ],
   "source": [
    "referenceUrl"
   ]
  },
  {
   "cell_type": "code",
   "execution_count": 25,
   "metadata": {
    "collapsed": false
   },
   "outputs": [],
   "source": [
    "search_results = ciop.search(end_point=referenceUrl,\n",
    "                         params=[],\n",
    "                         output_fields='identifier,enclosure',\n",
    "                         model='GeoTime')"
   ]
  },
  {
   "cell_type": "code",
   "execution_count": 27,
   "metadata": {
    "collapsed": true
   },
   "outputs": [
    {
     "name": "stdout",
     "output_type": "stream",
     "text": [
      "http://gridded-data.armines.nextgeoss.terradue.com/data/run/mccloud_map_wps/0000000-180901000007300-oozie-oozi-W/_results/result.h5\n"
     ]
    }
   ],
   "source": [
    "for index, elem in enumerate(search_results):\n",
    "    print(elem['enclosure'])"
   ]
  }
 ],
 "metadata": {
  "kernelspec": {
   "display_name": "Python 2",
   "language": "python",
   "name": "python2"
  },
  "language_info": {
   "codemirror_mode": {
    "name": "ipython",
    "version": 2
   },
   "file_extension": ".py",
   "mimetype": "text/x-python",
   "name": "python",
   "nbconvert_exporter": "python",
   "pygments_lexer": "ipython2",
   "version": "2.7.12"
  }
 },
 "nbformat": 4,
 "nbformat_minor": 2
}
